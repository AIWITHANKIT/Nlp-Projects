{
 "cells": [
  {
   "cell_type": "markdown",
   "id": "9009a5e9",
   "metadata": {},
   "source": [
    "# Text Summerization With Fast Text and Spacy"
   ]
  },
  {
   "cell_type": "code",
   "execution_count": 36,
   "id": "7b138a90",
   "metadata": {},
   "outputs": [],
   "source": [
    "#IMPORTANT LIBRARIES \n",
    "\n",
    "import numpy as np\n",
    "import pandas as pd\n",
    "import matplotlib.pyplot as plt\n",
    "from sklearn.metrics.pairwise import cosine_similarity\n",
    "import fasttext\n",
    "import spacy\n",
    "import re"
   ]
  },
  {
   "cell_type": "markdown",
   "id": "647fd408",
   "metadata": {},
   "source": [
    "# 1.Data Loading"
   ]
  },
  {
   "cell_type": "code",
   "execution_count": 37,
   "id": "d5311839",
   "metadata": {},
   "outputs": [],
   "source": [
    "df = pd.read_table(\"cancermine_sentences.tsv\")"
   ]
  },
  {
   "cell_type": "code",
   "execution_count": 38,
   "id": "b7e24a40",
   "metadata": {
    "scrolled": true
   },
   "outputs": [
    {
     "data": {
      "text/html": [
       "<div>\n",
       "<style scoped>\n",
       "    .dataframe tbody tr th:only-of-type {\n",
       "        vertical-align: middle;\n",
       "    }\n",
       "\n",
       "    .dataframe tbody tr th {\n",
       "        vertical-align: top;\n",
       "    }\n",
       "\n",
       "    .dataframe thead th {\n",
       "        text-align: right;\n",
       "    }\n",
       "</style>\n",
       "<table border=\"1\" class=\"dataframe\">\n",
       "  <thead>\n",
       "    <tr style=\"text-align: right;\">\n",
       "      <th></th>\n",
       "      <th>matching_id</th>\n",
       "      <th>pmid</th>\n",
       "      <th>title</th>\n",
       "      <th>journal</th>\n",
       "      <th>journal_short</th>\n",
       "      <th>year</th>\n",
       "      <th>month</th>\n",
       "      <th>day</th>\n",
       "      <th>section</th>\n",
       "      <th>subsection</th>\n",
       "      <th>...</th>\n",
       "      <th>cancer_start</th>\n",
       "      <th>cancer_end</th>\n",
       "      <th>gene_hugo_id</th>\n",
       "      <th>gene_entrez_id</th>\n",
       "      <th>gene_name</th>\n",
       "      <th>gene_normalized</th>\n",
       "      <th>gene_start</th>\n",
       "      <th>gene_end</th>\n",
       "      <th>sentence</th>\n",
       "      <th>formatted_sentence</th>\n",
       "    </tr>\n",
       "  </thead>\n",
       "  <tbody>\n",
       "    <tr>\n",
       "      <th>0</th>\n",
       "      <td>333b030a6302a63ad2d43f83f0b01598</td>\n",
       "      <td>36528839</td>\n",
       "      <td>Roles of RNA-binding proteins in neurological ...</td>\n",
       "      <td>Human Cell</td>\n",
       "      <td>Human Cell</td>\n",
       "      <td>2023</td>\n",
       "      <td>12</td>\n",
       "      <td>18</td>\n",
       "      <td>article</td>\n",
       "      <td>introduction</td>\n",
       "      <td>...</td>\n",
       "      <td>254</td>\n",
       "      <td>284</td>\n",
       "      <td>HGNC:10571</td>\n",
       "      <td>6319</td>\n",
       "      <td>stearoyl-CoA desaturase (SCD)</td>\n",
       "      <td>SCD</td>\n",
       "      <td>150</td>\n",
       "      <td>179</td>\n",
       "      <td>In the line with this evidence, the role of th...</td>\n",
       "      <td>In the line with this evidence, the role of th...</td>\n",
       "    </tr>\n",
       "    <tr>\n",
       "      <th>1</th>\n",
       "      <td>dcbb82e8e463eec67a75d22cc248228f</td>\n",
       "      <td>36450978</td>\n",
       "      <td>Common and rare variant associations with clon...</td>\n",
       "      <td>Nature</td>\n",
       "      <td>Nature</td>\n",
       "      <td>2022</td>\n",
       "      <td>11</td>\n",
       "      <td>30</td>\n",
       "      <td>article</td>\n",
       "      <td>None</td>\n",
       "      <td>...</td>\n",
       "      <td>146</td>\n",
       "      <td>159</td>\n",
       "      <td>HGNC:2978</td>\n",
       "      <td>1788</td>\n",
       "      <td>DNMT3A</td>\n",
       "      <td>DNMT3A</td>\n",
       "      <td>184</td>\n",
       "      <td>190</td>\n",
       "      <td>Models estimating event risk on the basis of C...</td>\n",
       "      <td>Models estimating event risk on the basis of C...</td>\n",
       "    </tr>\n",
       "    <tr>\n",
       "      <th>2</th>\n",
       "      <td>13ae1534f5aba0a8ade7d319349313d1</td>\n",
       "      <td>33535156</td>\n",
       "      <td>Eyes on coronavirus</td>\n",
       "      <td>Stem Cell Research</td>\n",
       "      <td>Stem Cell Research</td>\n",
       "      <td>2021</td>\n",
       "      <td>1</td>\n",
       "      <td>27</td>\n",
       "      <td>article</td>\n",
       "      <td>introduction</td>\n",
       "      <td>...</td>\n",
       "      <td>91</td>\n",
       "      <td>96</td>\n",
       "      <td>HGNC:1116</td>\n",
       "      <td>682</td>\n",
       "      <td>CD147</td>\n",
       "      <td>BSG</td>\n",
       "      <td>39</td>\n",
       "      <td>44</td>\n",
       "      <td>In non-small cell lung cancer (NSCLC), CD147 e...</td>\n",
       "      <td>In non-small cell lung cancer (NSCLC), &lt;b&gt;CD14...</td>\n",
       "    </tr>\n",
       "    <tr>\n",
       "      <th>3</th>\n",
       "      <td>c6712385cd77b7273e2aeb12a217ed3e</td>\n",
       "      <td>36648635</td>\n",
       "      <td>World Molecular Imaging Congress 2022</td>\n",
       "      <td>Molecular Imaging and Biology</td>\n",
       "      <td>Molecular Imaging and Biology</td>\n",
       "      <td>2022</td>\n",
       "      <td>1</td>\n",
       "      <td>17</td>\n",
       "      <td>article</td>\n",
       "      <td>conclusions</td>\n",
       "      <td>...</td>\n",
       "      <td>87</td>\n",
       "      <td>102</td>\n",
       "      <td>HGNC:644</td>\n",
       "      <td>367</td>\n",
       "      <td>androgen receptor</td>\n",
       "      <td>AR</td>\n",
       "      <td>62</td>\n",
       "      <td>79</td>\n",
       "      <td>Mitochondrial pyruvate import is a metabolic v...</td>\n",
       "      <td>Mitochondrial pyruvate import is a metabolic v...</td>\n",
       "    </tr>\n",
       "    <tr>\n",
       "      <th>4</th>\n",
       "      <td>5659f2a223f7f79ec55e98d6f4869da4</td>\n",
       "      <td>36648635</td>\n",
       "      <td>World Molecular Imaging Congress 2022</td>\n",
       "      <td>Molecular Imaging and Biology</td>\n",
       "      <td>Molecular Imaging and Biology</td>\n",
       "      <td>2022</td>\n",
       "      <td>1</td>\n",
       "      <td>17</td>\n",
       "      <td>article</td>\n",
       "      <td>introduction</td>\n",
       "      <td>...</td>\n",
       "      <td>106</td>\n",
       "      <td>117</td>\n",
       "      <td>HGNC:8038</td>\n",
       "      <td>4922</td>\n",
       "      <td>neurotensin (NTS)</td>\n",
       "      <td>NTS</td>\n",
       "      <td>36</td>\n",
       "      <td>53</td>\n",
       "      <td>Accumulating evidence suggests that neurotensi...</td>\n",
       "      <td>Accumulating evidence suggests that &lt;b&gt;neurote...</td>\n",
       "    </tr>\n",
       "  </tbody>\n",
       "</table>\n",
       "<p>5 rows × 25 columns</p>\n",
       "</div>"
      ],
      "text/plain": [
       "                        matching_id      pmid  \\\n",
       "0  333b030a6302a63ad2d43f83f0b01598  36528839   \n",
       "1  dcbb82e8e463eec67a75d22cc248228f  36450978   \n",
       "2  13ae1534f5aba0a8ade7d319349313d1  33535156   \n",
       "3  c6712385cd77b7273e2aeb12a217ed3e  36648635   \n",
       "4  5659f2a223f7f79ec55e98d6f4869da4  36648635   \n",
       "\n",
       "                                               title  \\\n",
       "0  Roles of RNA-binding proteins in neurological ...   \n",
       "1  Common and rare variant associations with clon...   \n",
       "2                                Eyes on coronavirus   \n",
       "3              World Molecular Imaging Congress 2022   \n",
       "4              World Molecular Imaging Congress 2022   \n",
       "\n",
       "                         journal                  journal_short  year month  \\\n",
       "0                     Human Cell                     Human Cell  2023    12   \n",
       "1                         Nature                         Nature  2022    11   \n",
       "2             Stem Cell Research             Stem Cell Research  2021     1   \n",
       "3  Molecular Imaging and Biology  Molecular Imaging and Biology  2022     1   \n",
       "4  Molecular Imaging and Biology  Molecular Imaging and Biology  2022     1   \n",
       "\n",
       "  day  section    subsection  ... cancer_start  cancer_end gene_hugo_id  \\\n",
       "0  18  article  introduction  ...          254         284   HGNC:10571   \n",
       "1  30  article          None  ...          146         159    HGNC:2978   \n",
       "2  27  article  introduction  ...           91          96    HGNC:1116   \n",
       "3  17  article   conclusions  ...           87         102     HGNC:644   \n",
       "4  17  article  introduction  ...          106         117    HGNC:8038   \n",
       "\n",
       "  gene_entrez_id                      gene_name  gene_normalized  gene_start  \\\n",
       "0           6319  stearoyl-CoA desaturase (SCD)              SCD         150   \n",
       "1           1788                         DNMT3A           DNMT3A         184   \n",
       "2            682                          CD147              BSG          39   \n",
       "3            367              androgen receptor               AR          62   \n",
       "4           4922              neurotensin (NTS)              NTS          36   \n",
       "\n",
       "  gene_end                                           sentence  \\\n",
       "0      179  In the line with this evidence, the role of th...   \n",
       "1      190  Models estimating event risk on the basis of C...   \n",
       "2       44  In non-small cell lung cancer (NSCLC), CD147 e...   \n",
       "3       79  Mitochondrial pyruvate import is a metabolic v...   \n",
       "4       53  Accumulating evidence suggests that neurotensi...   \n",
       "\n",
       "                                  formatted_sentence  \n",
       "0  In the line with this evidence, the role of th...  \n",
       "1  Models estimating event risk on the basis of C...  \n",
       "2  In non-small cell lung cancer (NSCLC), <b>CD14...  \n",
       "3  Mitochondrial pyruvate import is a metabolic v...  \n",
       "4  Accumulating evidence suggests that <b>neurote...  \n",
       "\n",
       "[5 rows x 25 columns]"
      ]
     },
     "execution_count": 38,
     "metadata": {},
     "output_type": "execute_result"
    }
   ],
   "source": [
    "df.head(5)"
   ]
  },
  {
   "cell_type": "code",
   "execution_count": 39,
   "id": "40c622f1",
   "metadata": {},
   "outputs": [
    {
     "data": {
      "text/plain": [
       "(108057, 25)"
      ]
     },
     "execution_count": 39,
     "metadata": {},
     "output_type": "execute_result"
    }
   ],
   "source": [
    "df.shape"
   ]
  },
  {
   "cell_type": "markdown",
   "id": "0973a3b2",
   "metadata": {},
   "source": [
    "# 2.Data Cleaning"
   ]
  },
  {
   "cell_type": "code",
   "execution_count": 40,
   "id": "55a445d7",
   "metadata": {},
   "outputs": [
    {
     "data": {
      "text/plain": [
       "0"
      ]
     },
     "execution_count": 40,
     "metadata": {},
     "output_type": "execute_result"
    }
   ],
   "source": [
    "# missing values\n",
    "df['sentence'].isnull().sum()"
   ]
  },
  {
   "cell_type": "code",
   "execution_count": 41,
   "id": "62026a97",
   "metadata": {},
   "outputs": [
    {
     "data": {
      "text/plain": [
       "25785"
      ]
     },
     "execution_count": 41,
     "metadata": {},
     "output_type": "execute_result"
    }
   ],
   "source": [
    "df['sentence'].duplicated().sum()"
   ]
  },
  {
   "cell_type": "code",
   "execution_count": 42,
   "id": "74a89112",
   "metadata": {},
   "outputs": [
    {
     "data": {
      "text/plain": [
       "0"
      ]
     },
     "execution_count": 42,
     "metadata": {},
     "output_type": "execute_result"
    }
   ],
   "source": [
    "df = df.drop_duplicates('sentence', keep='last')\n",
    "df.duplicated().sum()"
   ]
  },
  {
   "cell_type": "markdown",
   "id": "c832969a",
   "metadata": {},
   "source": [
    "# 3. Exploratory Data Analysis"
   ]
  },
  {
   "cell_type": "code",
   "execution_count": 43,
   "id": "e6301ad2",
   "metadata": {},
   "outputs": [
    {
     "data": {
      "text/plain": [
       "count                                                 82272\n",
       "unique                                                82272\n",
       "top       In the line with this evidence, the role of th...\n",
       "freq                                                      1\n",
       "Name: sentence, dtype: object"
      ]
     },
     "execution_count": 43,
     "metadata": {},
     "output_type": "execute_result"
    }
   ],
   "source": [
    "df['sentence'].describe()"
   ]
  },
  {
   "cell_type": "markdown",
   "id": "61a4dc2e",
   "metadata": {},
   "source": [
    "# 4. Data Preprocessing"
   ]
  },
  {
   "cell_type": "code",
   "execution_count": 44,
   "id": "32c036d6",
   "metadata": {},
   "outputs": [
    {
     "name": "stdout",
     "output_type": "stream",
     "text": [
      "brasilian are good at fottball and studying\n"
     ]
    }
   ],
   "source": [
    "# eliminating punctuations and symbols\n",
    "analyzer = spacy.load('en_core_web_sm')\n",
    "def preprocessor(text):\n",
    "    example = analyzer(text)\n",
    "    token_words = []\n",
    "    processed_words = []\n",
    "    for words  in example:\n",
    "        if not words.is_punct:\n",
    "            token_words.append(str(words))\n",
    "    return \" \".join(token_words)   \n",
    "print(preprocessor(\"brasilian are good. at fottball! and studying\"))"
   ]
  },
  {
   "cell_type": "code",
   "execution_count": null,
   "id": "219cb1c7",
   "metadata": {},
   "outputs": [],
   "source": [
    "df['cleaned_sentence'] = df['sentence'].apply(preprocessor)"
   ]
  },
  {
   "cell_type": "code",
   "execution_count": null,
   "id": "4be6eb5b",
   "metadata": {},
   "outputs": [],
   "source": [
    "df['cleaned_sentence'][1]"
   ]
  },
  {
   "cell_type": "markdown",
   "id": "2b603389",
   "metadata": {},
   "source": [
    "# 5. Extracting processed txt file for unsupervised model training"
   ]
  },
  {
   "cell_type": "code",
   "execution_count": null,
   "id": "1c450127",
   "metadata": {},
   "outputs": [],
   "source": [
    "df.to_csv(\"cancerfile.txt\", columns = ['cleaned_sentence'], header = None, index = False)"
   ]
  },
  {
   "cell_type": "markdown",
   "id": "5cb8bdda",
   "metadata": {},
   "source": [
    "# 6. Model Training(Unsupervised)"
   ]
  },
  {
   "cell_type": "code",
   "execution_count": 47,
   "id": "f838c8fa",
   "metadata": {},
   "outputs": [],
   "source": [
    "model = fasttext.train_unsupervised('cancerfile.txt')"
   ]
  },
  {
   "cell_type": "code",
   "execution_count": 48,
   "id": "e54d4e0b",
   "metadata": {},
   "outputs": [
    {
     "data": {
      "text/plain": [
       "[(0.8482417464256287, 'cancer\"'),\n",
       " (0.8238462805747986, 'cancerbut'),\n",
       " (0.8063907027244568, 'cancerRRM2'),\n",
       " (0.7920263409614563, 'breast'),\n",
       " (0.7765771150588989, 'cancers\"'),\n",
       " (0.7683383822441101, 'breastcancer'),\n",
       " (0.7436859011650085, 'cancersand'),\n",
       " (0.7291085124015808, 'cancer-1'),\n",
       " (0.7147127389907837, 'cancerand'),\n",
       " (0.7045959234237671, 'cancers')]"
      ]
     },
     "execution_count": 48,
     "metadata": {},
     "output_type": "execute_result"
    }
   ],
   "source": [
    "# checking how model is well trained by finding nearest neighbors \n",
    "check = model.get_nearest_neighbors(\"cancer\")\n",
    "check"
   ]
  },
  {
   "cell_type": "code",
   "execution_count": 356,
   "id": "19c59b90",
   "metadata": {},
   "outputs": [],
   "source": [
    "model.save_model(\"fasttext_finalmodel.bin\")"
   ]
  },
  {
   "cell_type": "code",
   "execution_count": 357,
   "id": "2321d51c",
   "metadata": {},
   "outputs": [],
   "source": [
    "input_text = \"\"\"In most cases, we can never attribute the cause of any cancer to one single factor. The main thing that causes cancer is a substance we know as carcinogens. But how these develop or enters a person’s body will depend on many factors. We can divide the main factors into the following types – biological factors, physical factors, and lifestyle-related factors.\n",
    "\n",
    "Biological factors involve internal factors such as age, gender, genes, hereditary factors, blood type, skin type, etc. Physical factors refer to environmental exposure of any king to say X-rays, gamma rays, etc. Ad finally lifestyle-related factors refer to substances that introduced carcinogens into our body. These include tobacco, UV radiation, alcohol. smoke, etc. Next, in this essay on cancer lets learn about how we can treat cancer.\"\"\""
   ]
  },
  {
   "cell_type": "code",
   "execution_count": 358,
   "id": "c07d10f2",
   "metadata": {
    "scrolled": true
   },
   "outputs": [
    {
     "data": {
      "text/plain": [
       "'In most cases we can never attribute the cause of any cancer to one single factor The main thing that causes cancer is a substance we know as carcinogens But how these develop or enters a person  s body will depend on many factors We can divide the main factors into the following types biological factors physical factors and lifestyle related factors    Biological factors involve internal factors such as age gender genes hereditary factors blood type skin type etc Physical factors refer to environmental exposure of any king to say X rays gamma rays etc Ad finally lifestyle related factors refer to substances that introduced carcinogens into our body These include tobacco UV radiation alcohol smoke etc Next in this essay on cancer lets learn about how we can treat cancer'"
      ]
     },
     "execution_count": 358,
     "metadata": {},
     "output_type": "execute_result"
    }
   ],
   "source": [
    "# input paragraph text cleaning and preprocessing\n",
    "input_processed = preprocessor(input_text)\n",
    "input_processed = re.sub(r\"[^a-zA-Z]\",\" \",input_processed)\n",
    "input_processed"
   ]
  },
  {
   "cell_type": "markdown",
   "id": "3ca481c1",
   "metadata": {},
   "source": [
    "# 7. Converting to sentence embedding"
   ]
  },
  {
   "cell_type": "code",
   "execution_count": 359,
   "id": "f35a7809",
   "metadata": {},
   "outputs": [],
   "source": [
    "word_embedding_para = model.get_sentence_vector(input_processed)"
   ]
  },
  {
   "cell_type": "code",
   "execution_count": 360,
   "id": "f42c77b3",
   "metadata": {},
   "outputs": [
    {
     "data": {
      "text/plain": [
       "array([ 9.2889154e-03,  7.6127541e-03,  5.2819829e-02, -2.7959950e-02,\n",
       "       -6.4665808e-05, -5.8702696e-03, -9.1797233e-02, -6.6517390e-02,\n",
       "        3.2586761e-02, -1.6245896e-02, -2.0829242e-02,  3.1995386e-02,\n",
       "       -4.3331023e-02, -3.5725866e-02, -1.6707462e-01,  7.3126420e-02,\n",
       "       -4.1093912e-02,  1.8000711e-02, -5.6655377e-02, -8.4780611e-02,\n",
       "        5.4462552e-02, -3.3425877e-03, -6.9462828e-02, -6.1196595e-02,\n",
       "       -7.9739615e-02, -4.1772756e-03, -5.0474573e-03, -2.1156631e-03,\n",
       "       -3.8637791e-02,  2.9136052e-03, -6.4682141e-02, -1.1133105e-02,\n",
       "        1.2185012e-02,  1.1899914e-01,  4.1721868e-03, -1.0800358e-01,\n",
       "       -4.1997347e-02,  6.0606111e-02, -2.7366489e-02, -3.8321968e-02,\n",
       "        1.3862264e-01,  1.1765123e-01,  1.2285425e-01,  3.9953899e-02,\n",
       "        6.2426619e-02,  8.4542232e-03, -4.0465001e-02, -1.0646818e-02,\n",
       "        1.7627342e-02, -5.3850539e-02, -5.9627600e-02, -1.8939821e-02,\n",
       "       -5.4124266e-02,  3.2087855e-02, -3.0777904e-03, -7.6084281e-03,\n",
       "       -7.5907290e-02, -5.1214311e-02,  3.0850818e-02,  7.2482303e-02,\n",
       "        2.6342751e-02,  6.1310820e-02,  3.8815223e-02,  6.3332804e-02,\n",
       "       -1.2221140e-01,  5.7331003e-02,  1.6408117e-02,  1.7972931e-02,\n",
       "        1.4622042e-02,  8.4989168e-02, -5.2771695e-02, -2.1066397e-02,\n",
       "       -1.1096800e-01,  4.8306555e-02, -6.9385120e-03, -6.0688425e-02,\n",
       "        1.0798130e-01,  6.9385417e-02,  2.5312239e-02, -4.1657045e-02,\n",
       "       -2.4384090e-04,  3.4018919e-02, -4.7513992e-03,  2.6269631e-02,\n",
       "        4.0631771e-02,  3.3169005e-02, -4.0178992e-02, -1.1989573e-02,\n",
       "        8.7040076e-03,  3.6097120e-03, -7.0322707e-02, -9.9166101e-03,\n",
       "        6.2190231e-02, -3.4053888e-02, -4.1664275e-03, -7.3294252e-02,\n",
       "        4.5198174e-03, -7.6667018e-02, -9.7025083e-03, -3.3065986e-02],\n",
       "      dtype=float32)"
      ]
     },
     "execution_count": 360,
     "metadata": {},
     "output_type": "execute_result"
    }
   ],
   "source": [
    "word_embedding_para"
   ]
  },
  {
   "cell_type": "code",
   "execution_count": 361,
   "id": "31b17bc2",
   "metadata": {},
   "outputs": [
    {
     "name": "stdout",
     "output_type": "stream",
     "text": [
      "[array([ 0.01466357,  0.01209411,  0.04492087, -0.02626492,  0.02853228,\n",
      "        0.00703079, -0.10982415, -0.08300329,  0.0263868 ,  0.00049283,\n",
      "       -0.00948199,  0.07625341, -0.05468797, -0.01477058, -0.19871804,\n",
      "        0.05576849, -0.06826639,  0.03755951, -0.03288502, -0.0943509 ,\n",
      "        0.02895478, -0.01050661, -0.09215454, -0.0593892 , -0.1137737 ,\n",
      "       -0.03314891, -0.01108863, -0.02265893, -0.05078182, -0.00043879,\n",
      "       -0.06115587, -0.00230351,  0.02405915,  0.11121704,  0.00503107,\n",
      "       -0.11163875, -0.05088544,  0.10118215, -0.01761193, -0.09710315,\n",
      "        0.15200129,  0.13502774,  0.08039293,  0.06203151,  0.05506836,\n",
      "       -0.02205065, -0.03110491,  0.01771598,  0.03056882, -0.04806802,\n",
      "       -0.04111072, -0.01371094, -0.02504434,  0.04452137,  0.00544221,\n",
      "       -0.01220976, -0.08018486, -0.0337398 ,  0.00322814,  0.11317295,\n",
      "        0.03404204,  0.06647067,  0.00113642,  0.09248691, -0.10956248,\n",
      "        0.06160248,  0.01551293,  0.06895933,  0.02362953,  0.09771043,\n",
      "       -0.05898898, -0.03404478, -0.14792535,  0.01827735, -0.01092645,\n",
      "       -0.08878634,  0.08671442,  0.06099724,  0.01899562, -0.04625896,\n",
      "       -0.01267099,  0.02280093,  0.00388191,  0.05610418,  0.04029256,\n",
      "        0.02707099, -0.03815107,  0.02588346,  0.05220206,  0.01700343,\n",
      "       -0.05925878, -0.02862114,  0.04634726, -0.0241135 ,  0.00287096,\n",
      "       -0.07184721,  0.01062858, -0.06510084, -0.01404775, -0.04181451],\n",
      "      dtype=float32), array([ 0.04648494,  0.07189016,  0.03422839, -0.03077351,  0.03575181,\n",
      "       -0.01045224, -0.10809516, -0.04814013,  0.02895991, -0.02725284,\n",
      "       -0.01408484,  0.08894999, -0.02783748, -0.0664653 , -0.16406041,\n",
      "        0.03292206, -0.06392853,  0.03863684, -0.04188296, -0.10417607,\n",
      "        0.04763158,  0.00660251, -0.07923845, -0.0576638 , -0.07232459,\n",
      "       -0.03919184, -0.0254156 ,  0.00188365, -0.02614762, -0.03364211,\n",
      "       -0.05990831, -0.02992355,  0.03037795,  0.15125404,  0.02651839,\n",
      "       -0.08394183, -0.05612063,  0.12969649, -0.00594172, -0.07956754,\n",
      "        0.16702805,  0.1311095 ,  0.11623366,  0.06928551,  0.05795816,\n",
      "        0.01267946, -0.0450729 ,  0.01973356,  0.00940249, -0.04094021,\n",
      "       -0.05281808, -0.04674636, -0.06248056,  0.02211061,  0.02482308,\n",
      "       -0.0286757 , -0.0880868 , -0.03397013,  0.05262924,  0.04200687,\n",
      "        0.00718217,  0.06037115,  0.00334117,  0.03942071, -0.16736475,\n",
      "        0.05549736, -0.0489114 ,  0.02135435,  0.01331078,  0.07386762,\n",
      "       -0.06634565, -0.06175543, -0.13843359,  0.03212392,  0.0088884 ,\n",
      "       -0.09477311,  0.10505147,  0.10165281,  0.04642991, -0.05689649,\n",
      "       -0.04217477,  0.03473568,  0.01412414,  0.01604058,  0.04512026,\n",
      "        0.02226186, -0.0191499 ,  0.01810189,  0.03611565, -0.04379643,\n",
      "       -0.01857631, -0.03230686,  0.07618286, -0.07101081, -0.03953101,\n",
      "       -0.09934688, -0.00893987, -0.08094579,  0.03524739, -0.10550573],\n",
      "      dtype=float32), array([ 0.03458916,  0.03110033,  0.03594434, -0.01056183, -0.00786545,\n",
      "       -0.03434639, -0.10119138, -0.10938168,  0.08049625, -0.01613196,\n",
      "       -0.02592258,  0.04049245, -0.03559234, -0.04841216, -0.1707626 ,\n",
      "        0.09317712, -0.03892836,  0.00953949, -0.03645624, -0.02625274,\n",
      "        0.06773709,  0.02849798, -0.07643278, -0.0126546 , -0.12560791,\n",
      "        0.02069942, -0.01496156, -0.01292704, -0.02881771,  0.06693324,\n",
      "       -0.02226342, -0.03885087,  0.01597857,  0.11491994, -0.02473507,\n",
      "       -0.10517849, -0.01827606,  0.02527773, -0.02789927,  0.00131218,\n",
      "        0.14445001,  0.10843652,  0.17215768,  0.0411525 ,  0.0799179 ,\n",
      "        0.02118429, -0.06361903, -0.02001115,  0.04027831, -0.04849191,\n",
      "       -0.09166028, -0.01259836, -0.06025888,  0.03504186,  0.02452406,\n",
      "       -0.06635257, -0.06326017, -0.05096891,  0.01594259,  0.06780027,\n",
      "        0.0290256 ,  0.04346788,  0.02320879,  0.09107009, -0.13357657,\n",
      "        0.04119091,  0.00429661,  0.02615398,  0.03537794,  0.05473474,\n",
      "       -0.05564212, -0.01813184, -0.09107452,  0.064266  , -0.02047823,\n",
      "       -0.06679429,  0.14305526,  0.02636529,  0.04245286, -0.05817559,\n",
      "        0.01943785,  0.06889275, -0.0024422 ,  0.02223901,  0.05665857,\n",
      "        0.01516102, -0.01955267, -0.01682552,  0.01179808,  0.03065171,\n",
      "       -0.06689502, -0.01011455,  0.06055285,  0.00168377,  0.00030888,\n",
      "       -0.07904796,  0.03557533, -0.05741917, -0.02629029, -0.0498073 ],\n",
      "      dtype=float32), array([ 0.02172966,  0.03646412,  0.01740085, -0.0290621 ,  0.01105152,\n",
      "       -0.02089565, -0.08767051, -0.0799756 ,  0.0662803 , -0.02186688,\n",
      "       -0.04748068,  0.0442615 , -0.04925616, -0.0209578 , -0.13562247,\n",
      "        0.12853885, -0.05198101,  0.01499846, -0.07166229, -0.08248141,\n",
      "        0.06231864,  0.01294487, -0.08349241, -0.1132989 , -0.08074824,\n",
      "        0.00919596,  0.01666711,  0.03620997, -0.01455674, -0.01758315,\n",
      "       -0.07403141, -0.00885745,  0.01100104,  0.12546031,  0.0023292 ,\n",
      "       -0.11734626, -0.05149215,  0.09719358, -0.03694255, -0.05144661,\n",
      "        0.1245451 ,  0.1286955 ,  0.13426131,  0.03542693,  0.10799374,\n",
      "        0.02147839, -0.01863329, -0.01240607,  0.01296818, -0.07484454,\n",
      "       -0.09943692, -0.01256429, -0.07533643,  0.03946902, -0.04316077,\n",
      "       -0.0221362 , -0.06709547, -0.08432502,  0.04201237,  0.11252423,\n",
      "        0.04852451,  0.09075506,  0.03780777,  0.02096031, -0.0816174 ,\n",
      "        0.04424154,  0.04072731,  0.01791465, -0.0184798 ,  0.09828231,\n",
      "       -0.05955367, -0.01644032, -0.07736684,  0.04588528,  0.01303789,\n",
      "       -0.06214154,  0.08359823,  0.06279694,  0.03173247, -0.06040724,\n",
      "        0.01309394,  0.02049012, -0.00611429,  0.04979252,  0.04598859,\n",
      "        0.01987072, -0.06454214, -0.05562779, -0.02400068,  0.00247708,\n",
      "       -0.11068515, -0.01747116,  0.07770551, -0.08137702,  0.04316578,\n",
      "       -0.06501224, -0.00200323, -0.08220601, -0.02431898, -0.01383369],\n",
      "      dtype=float32), array([ 0.01603862, -0.03494904,  0.05683946, -0.02746786, -0.02193249,\n",
      "        0.00888008, -0.06806523, -0.06899671,  0.04435907,  0.00787725,\n",
      "       -0.07721747,  0.01148925, -0.03530572,  0.00792233, -0.16068706,\n",
      "        0.07271539, -0.0559917 ,  0.01269614, -0.05967533, -0.13673234,\n",
      "        0.02367727, -0.02184174, -0.09453175, -0.09724928, -0.07166927,\n",
      "       -0.02304612, -0.00205644,  0.03528225, -0.02817708,  0.00796077,\n",
      "       -0.04281596,  0.02300703,  0.01501161,  0.11437611,  0.0123191 ,\n",
      "       -0.10738409, -0.01257949,  0.03908335,  0.02653892, -0.00177269,\n",
      "        0.12724584,  0.13083354,  0.12759946, -0.00116267,  0.08260357,\n",
      "        0.01930743, -0.01767691, -0.00097244,  0.00294736, -0.07838769,\n",
      "       -0.07394709,  0.00707382, -0.06989179,  0.05672047, -0.01436974,\n",
      "       -0.00899077, -0.0612119 , -0.07587296,  0.05503722,  0.05578374,\n",
      "        0.05030172,  0.02702151,  0.07137645,  0.06181885, -0.09941018,\n",
      "        0.08569726,  0.08749101, -0.02970665, -0.01711056,  0.0806901 ,\n",
      "       -0.03068066, -0.00999175, -0.11021063,  0.03913014, -0.0186605 ,\n",
      "       -0.03719114,  0.10481316,  0.05173535,  0.0439227 , -0.02223786,\n",
      "        0.05135242,  0.02700128, -0.00724567,  0.01422692,  0.0889883 ,\n",
      "        0.03311794, -0.06042906, -0.02879699, -0.01846047,  0.00505626,\n",
      "       -0.08450393, -0.02872903,  0.05950523, -0.0437373 ,  0.02181733,\n",
      "       -0.07273111, -0.03785259, -0.09996325,  0.01461449, -0.01660363],\n",
      "      dtype=float32), array([-2.31416766e-02, -1.61502957e-02,  4.13242243e-02, -6.98981434e-02,\n",
      "       -4.40784432e-02, -9.51404776e-03, -6.76789656e-02, -5.98233081e-02,\n",
      "       -9.20471177e-03, -1.20633217e-02,  9.53438971e-03, -9.50939022e-03,\n",
      "       -7.22423196e-02, -4.58734334e-02, -2.28417695e-01,  7.75696859e-02,\n",
      "       -3.10101509e-02,  4.63215709e-02, -1.03037193e-01, -1.00169070e-01,\n",
      "        4.58356291e-02, -2.75147520e-02, -4.81882766e-02, -7.90016949e-02,\n",
      "       -6.33758903e-02,  1.42928809e-02, -1.62023231e-02, -1.76666416e-02,\n",
      "       -4.79360670e-02, -1.23512391e-02, -8.88051167e-02,  1.98928546e-02,\n",
      "       -1.12929055e-02,  9.85500440e-02,  1.85189210e-02, -1.25261575e-01,\n",
      "       -4.74978164e-02,  4.25006971e-02, -4.69900332e-02, -4.67265770e-03,\n",
      "        1.12432055e-01,  8.78621191e-02,  1.03726454e-01,  3.86904851e-02,\n",
      "        6.13766238e-02, -1.45288813e-03, -4.82359938e-02, -1.32280784e-02,\n",
      "        4.16146554e-02, -6.72780499e-02, -3.90588865e-02, -2.97377966e-02,\n",
      "       -5.75059354e-02,  4.09099981e-02, -1.44620528e-02,  1.10306116e-02,\n",
      "       -1.03872418e-01, -5.11670858e-02,  2.39318684e-02,  9.58280861e-02,\n",
      "        3.09398565e-02,  8.10151100e-02,  5.69336526e-02,  6.66561425e-02,\n",
      "       -1.28267124e-01,  7.52882808e-02,  7.98911415e-03, -6.18239283e-04,\n",
      "        2.21071020e-02,  7.02254698e-02, -2.13131830e-02,  1.20160857e-03,\n",
      "       -1.09555252e-01,  5.83257340e-02, -3.33933756e-02, -4.81753349e-02,\n",
      "        1.21527202e-01,  6.21159337e-02, -6.44300925e-03, -3.06461100e-02,\n",
      "       -8.98821000e-03,  5.56555875e-02, -4.43889685e-02,  1.60466135e-02,\n",
      "        1.50194811e-02,  2.41381098e-02, -2.38183457e-02, -6.77211583e-02,\n",
      "       -6.13306984e-05, -1.62778068e-02, -1.03702314e-01,  3.79332975e-02,\n",
      "        7.74967521e-02,  1.19810039e-02, -1.79472659e-02, -6.84994608e-02,\n",
      "       -3.13508930e-03, -1.02129780e-01, -3.77675146e-02,  7.04430277e-03],\n",
      "      dtype=float32), array([ 3.5955708e-02,  2.4374094e-02,  5.3914100e-02, -1.9051762e-02,\n",
      "        3.3584926e-03, -4.2831916e-03, -1.0398279e-01, -8.0392204e-02,\n",
      "        1.6339438e-02, -5.0945107e-02,  3.2498203e-02,  2.1386340e-02,\n",
      "       -4.7462933e-02, -5.0516855e-02, -1.1953415e-01,  2.1503950e-02,\n",
      "       -4.8748691e-02,  2.5388651e-02, -6.2098864e-02, -4.6674546e-02,\n",
      "        8.8275030e-02, -1.5435136e-02, -9.4462372e-02, -4.3407883e-02,\n",
      "       -6.4663552e-02,  4.2932127e-02, -1.6479546e-02, -9.5996801e-03,\n",
      "       -3.4955326e-02, -1.9057751e-02, -6.7204356e-02, -4.7474395e-02,\n",
      "        1.9150386e-02,  1.0314165e-01, -7.5037647e-03, -1.3037336e-01,\n",
      "       -4.1408718e-02,  6.5002769e-02, -6.0619783e-02, -5.1929206e-02,\n",
      "        1.6741465e-01,  9.0861663e-02,  1.3329221e-01,  3.9796274e-02,\n",
      "        7.6074369e-02, -1.2470416e-02, -8.5475937e-02, -2.8464697e-02,\n",
      "        1.6999790e-02, -2.9030921e-02, -6.5453880e-02, -3.0451102e-02,\n",
      "       -6.1695233e-02,  3.3677428e-04, -7.8528645e-03,  2.4386177e-02,\n",
      "       -7.7752553e-02, -4.0585335e-02,  3.9828990e-02,  2.2325862e-02,\n",
      "       -2.4466403e-02,  6.4381368e-02,  6.0461611e-02,  5.7408698e-02,\n",
      "       -1.2882032e-01,  5.5967145e-02, -9.6159801e-03, -1.6658382e-02,\n",
      "        8.1530912e-03,  1.0969869e-01, -4.8639972e-02, -6.3630622e-03,\n",
      "       -8.8452071e-02,  7.5250365e-02,  6.0024913e-03, -4.4172116e-02,\n",
      "        1.2296409e-01,  6.2302317e-02,  3.9620090e-02, -4.9670935e-03,\n",
      "       -4.0121891e-02,  6.8567745e-02, -1.8279506e-02,  3.1453334e-02,\n",
      "        2.7215954e-02,  6.9277234e-02, -3.3760272e-02, -2.8244982e-02,\n",
      "       -1.4041003e-03, -5.7784411e-05, -5.3985395e-02, -2.3608599e-03,\n",
      "        6.6719517e-02, -2.1684781e-02, -2.8579727e-02, -7.1430109e-02,\n",
      "        3.6639538e-02, -6.3755415e-02, -3.5484761e-03, -2.7857497e-02],\n",
      "      dtype=float32), array([-0.01459125, -0.02674204,  0.16302639, -0.04270757,  0.01523643,\n",
      "        0.00333469, -0.04467631, -0.00936482, -0.04947896,  0.03289986,\n",
      "       -0.06419214,  0.04709532,  0.00617833, -0.03481488, -0.18855527,\n",
      "        0.01272894, -0.02098278, -0.03072654, -0.03084255, -0.11552124,\n",
      "        0.05807136, -0.08105174, -0.00346128, -0.08636834, -0.01498488,\n",
      "        0.00339179,  0.01815215, -0.06716758, -0.0083583 ,  0.05463836,\n",
      "       -0.10062339, -0.04202665, -0.01252571,  0.150352  , -0.05346633,\n",
      "       -0.10259132, -0.07671323,  0.0147181 , -0.11831605, -0.02153894,\n",
      "        0.12382533,  0.13409328,  0.13859576, -0.02287995, -0.01517134,\n",
      "        0.03867373,  0.00557529, -0.01810483, -0.04382318, -0.08076082,\n",
      "       -0.00174406,  0.00707383, -0.00458949,  0.0496399 , -0.03912861,\n",
      "        0.00157555, -0.04112203, -0.03554913, -0.01435255,  0.07053383,\n",
      "        0.03284473, -0.00159495,  0.09532829,  0.08786767, -0.1713691 ,\n",
      "        0.07079827,  0.06307461,  0.02665517,  0.01992147,  0.1157655 ,\n",
      "       -0.04740533, -0.05754654, -0.08385177,  0.06456994, -0.00704256,\n",
      "       -0.04225259,  0.1400649 ,  0.06021374,  0.03072229,  0.01461176,\n",
      "       -0.00823117,  0.02106025,  0.00780928,  0.01122336,  0.01562957,\n",
      "        0.06766672, -0.05013184,  0.05607915,  0.01217319, -0.03884115,\n",
      "       -0.03880286, -0.02666849,  0.02793008,  0.01256539, -0.04734902,\n",
      "       -0.06716786, -0.02584545, -0.12416729,  0.00225876,  0.02828322],\n",
      "      dtype=float32), array([-0.0137851 , -0.05214522,  0.14509985, -0.01316521, -0.11680385,\n",
      "       -0.04894071,  0.01096573, -0.12802595,  0.08293238,  0.0251692 ,\n",
      "        0.01219917,  0.08048091, -0.00485597,  0.02045329, -0.27194175,\n",
      "        0.04194866,  0.04856611, -0.04545965,  0.01493482, -0.24724618,\n",
      "        0.0444051 , -0.04934351, -0.00608787, -0.03818821, -0.07068424,\n",
      "       -0.08039258, -0.02604214, -0.0327555 , -0.0693684 ,  0.15580276,\n",
      "        0.00180257,  0.02274436,  0.05527446,  0.09172191,  0.04286645,\n",
      "       -0.14787146, -0.02844156, -0.06241238,  0.0085713 ,  0.01306171,\n",
      "        0.16619317,  0.12717699,  0.0948451 ,  0.03004422,  0.02908051,\n",
      "       -0.04962192,  0.08425833,  0.046015  ,  0.00696696, -0.04049813,\n",
      "       -0.07319883,  0.02676505, -0.09137495,  0.0178431 , -0.07277382,\n",
      "        0.09561933,  0.03226647, -0.10314628,  0.004978  , -0.01402402,\n",
      "        0.08220252, -0.06870351,  0.04613866,  0.10000819, -0.07623471,\n",
      "        0.03892124, -0.00368106, -0.1343329 ,  0.02880607,  0.168428  ,\n",
      "       -0.01587343, -0.01379533, -0.25298983,  0.006306  , -0.07272954,\n",
      "       -0.02756031,  0.04137817,  0.11114347,  0.07149553,  0.01916402,\n",
      "        0.01870861,  0.03818757,  0.0943694 , -0.07297961,  0.07908959,\n",
      "        0.06757282, -0.04014851,  0.0084031 , -0.01630815,  0.06591105,\n",
      "       -0.01532927, -0.04864673,  0.00822993,  0.08671254, -0.01527786,\n",
      "       -0.06482548, -0.15086572, -0.10215398, -0.01172916, -0.06855747],\n",
      "      dtype=float32), array([-0.01971949,  0.00810854,  0.04748879, -0.00786507,  0.0242524 ,\n",
      "       -0.01933421, -0.15148571, -0.08229052,  0.06567661, -0.03735464,\n",
      "        0.02730348, -0.00166459, -0.06346707, -0.03135946, -0.14769581,\n",
      "        0.09941293, -0.00960991,  0.00901802, -0.05660374, -0.0458181 ,\n",
      "        0.06417464,  0.01569101, -0.06341694, -0.01419694, -0.11242352,\n",
      "       -0.03078519,  0.04283488, -0.002233  , -0.07451768, -0.01241361,\n",
      "       -0.05358196, -0.02366158, -0.00373946,  0.12503223, -0.01163193,\n",
      "       -0.06475678, -0.03397156,  0.06145748, -0.00899889, -0.05073113,\n",
      "        0.10848752,  0.10152624,  0.12308478,  0.1020098 ,  0.03620521,\n",
      "        0.00207083, -0.06314924,  0.00429935,  0.03883003, -0.0029853 ,\n",
      "       -0.03906237, -0.03753581, -0.06312343,  0.02709414,  0.01490769,\n",
      "       -0.05140455, -0.07586932, -0.04793732,  0.03471721,  0.0527624 ,\n",
      "        0.0084558 ,  0.06869902,  0.03743657,  0.09099932, -0.17210765,\n",
      "        0.03177166, -0.02901427,  0.05353184,  0.05810252,  0.0632668 ,\n",
      "       -0.08491175, -0.044322  , -0.12628737,  0.0381975 ,  0.00242461,\n",
      "       -0.06582228,  0.11701031,  0.11390205,  0.02076714, -0.1040635 ,\n",
      "        0.00820016,  0.0335889 ,  0.02375158,  0.03001083,  0.00164406,\n",
      "        0.03434066, -0.02304311,  0.02693817,  0.04838388, -0.00028815,\n",
      "       -0.04927657, -0.00417601,  0.10879998, -0.06075671, -0.01718512,\n",
      "       -0.05718318,  0.00026396, -0.08483417, -0.01212306, -0.07604755],\n",
      "      dtype=float32)]\n"
     ]
    }
   ],
   "source": [
    "doc = analyzer(input_text)\n",
    "processed_sentences = []\n",
    "for x in doc.sents:\n",
    "    processed_sentences.append(str(x))\n",
    "word_embeddings_sent = []\n",
    "for x in processed_sentences:\n",
    "    x = x.replace(\"\\n\",\" \")\n",
    "    word_embeddings_sent.append(model.get_sentence_vector(x))\n",
    "print(word_embeddings_sent)    "
   ]
  },
  {
   "cell_type": "markdown",
   "id": "4498b3bf",
   "metadata": {},
   "source": [
    "# finding cosine similarities between sentences and input text"
   ]
  },
  {
   "cell_type": "code",
   "execution_count": 363,
   "id": "b3023979",
   "metadata": {},
   "outputs": [
    {
     "data": {
      "text/plain": [
       "[(0, 0.93617666), (1, 0.9136757), (2, 0.8132518), (3, 0.81250846)]"
      ]
     },
     "execution_count": 363,
     "metadata": {},
     "output_type": "execute_result"
    }
   ],
   "source": [
    "#finding cosine similarities between sentences and input text\n",
    "\n",
    "cos_sim = cosine_similarity([word_embedding_para],two_sent)\n",
    "similar_sentences = list(enumerate(cos_sim[0]))\n",
    "sorted_similar_sentences = sorted(similar_sentences, key=lambda x:x[1], reverse=True)\n",
    "\n",
    "similar_sentences"
   ]
  },
  {
   "cell_type": "markdown",
   "id": "a70e4eb5",
   "metadata": {},
   "source": [
    "# 8. Final output"
   ]
  },
  {
   "cell_type": "code",
   "execution_count": 311,
   "id": "ca7f33c3",
   "metadata": {
    "scrolled": true
   },
   "outputs": [
    {
     "data": {
      "text/plain": [
       "'In most cases, we can never attribute the cause of any cancer to one single factor.Ad finally lifestyle-related factors refer to substances that introduced carcinogens into our body.But how these develop or enters a person’s body will depend on many factors.Physical factors refer to environmental exposure of any king to say X-rays, gamma rays, etc.We can divide the main factors into the following types – biological factors, physical factors, and lifestyle-related factors.\\n\\n'"
      ]
     },
     "execution_count": 311,
     "metadata": {},
     "output_type": "execute_result"
    }
   ],
   "source": [
    "summary = \"\"\n",
    "for sent in similar_sentences[:5]:\n",
    "    summary = summary + processed_sentences[sent[0]]\n",
    "summary    \n",
    "    "
   ]
  },
  {
   "cell_type": "code",
   "execution_count": null,
   "id": "c8e2275d",
   "metadata": {},
   "outputs": [],
   "source": [
    " \n",
    "    "
   ]
  },
  {
   "cell_type": "code",
   "execution_count": null,
   "id": "c5682c7e",
   "metadata": {},
   "outputs": [],
   "source": []
  }
 ],
 "metadata": {
  "kernelspec": {
   "display_name": "Python 3 (ipykernel)",
   "language": "python",
   "name": "python3"
  },
  "language_info": {
   "codemirror_mode": {
    "name": "ipython",
    "version": 3
   },
   "file_extension": ".py",
   "mimetype": "text/x-python",
   "name": "python",
   "nbconvert_exporter": "python",
   "pygments_lexer": "ipython3",
   "version": "3.10.3"
  }
 },
 "nbformat": 4,
 "nbformat_minor": 5
}
