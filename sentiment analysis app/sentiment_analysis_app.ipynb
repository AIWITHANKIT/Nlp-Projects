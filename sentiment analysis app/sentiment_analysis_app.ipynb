{
 "cells": [
  {
   "cell_type": "markdown",
   "id": "846e1a71",
   "metadata": {},
   "source": [
    "# LIVE DEMO OF THIS APP IS ON : AIWITHANKIT.ONLINE"
   ]
  },
  {
   "cell_type": "markdown",
   "id": "de85ac6c",
   "metadata": {},
   "source": [
    "# 1. DATA LOADING"
   ]
  },
  {
   "cell_type": "code",
   "execution_count": 1,
   "id": "9499d208",
   "metadata": {},
   "outputs": [],
   "source": [
    "#IMPORTANT LIBRARIES \n",
    "\n",
    "import numpy as np\n",
    "import pandas as pd\n",
    "import matplotlib.pyplot as plt\n",
    "df = pd.read_csv(\"Test.csv\")\n",
    "from sklearn.feature_extraction.text import CountVectorizer\n",
    "from sklearn.feature_extraction.text import TfidfTransformer"
   ]
  },
  {
   "cell_type": "code",
   "execution_count": 2,
   "id": "00235bda",
   "metadata": {
    "scrolled": true
   },
   "outputs": [
    {
     "data": {
      "text/html": [
       "<div>\n",
       "<style scoped>\n",
       "    .dataframe tbody tr th:only-of-type {\n",
       "        vertical-align: middle;\n",
       "    }\n",
       "\n",
       "    .dataframe tbody tr th {\n",
       "        vertical-align: top;\n",
       "    }\n",
       "\n",
       "    .dataframe thead th {\n",
       "        text-align: right;\n",
       "    }\n",
       "</style>\n",
       "<table border=\"1\" class=\"dataframe\">\n",
       "  <thead>\n",
       "    <tr style=\"text-align: right;\">\n",
       "      <th></th>\n",
       "      <th>text</th>\n",
       "      <th>label</th>\n",
       "    </tr>\n",
       "  </thead>\n",
       "  <tbody>\n",
       "    <tr>\n",
       "      <th>0</th>\n",
       "      <td>I always wrote this series off as being a comp...</td>\n",
       "      <td>0</td>\n",
       "    </tr>\n",
       "    <tr>\n",
       "      <th>1</th>\n",
       "      <td>1st watched 12/7/2002 - 3 out of 10(Dir-Steve ...</td>\n",
       "      <td>0</td>\n",
       "    </tr>\n",
       "    <tr>\n",
       "      <th>2</th>\n",
       "      <td>This movie was so poorly written and directed ...</td>\n",
       "      <td>0</td>\n",
       "    </tr>\n",
       "    <tr>\n",
       "      <th>3</th>\n",
       "      <td>The most interesting thing about Miryang (Secr...</td>\n",
       "      <td>1</td>\n",
       "    </tr>\n",
       "    <tr>\n",
       "      <th>4</th>\n",
       "      <td>when i first read about \"berlin am meer\" i did...</td>\n",
       "      <td>0</td>\n",
       "    </tr>\n",
       "  </tbody>\n",
       "</table>\n",
       "</div>"
      ],
      "text/plain": [
       "                                                text  label\n",
       "0  I always wrote this series off as being a comp...      0\n",
       "1  1st watched 12/7/2002 - 3 out of 10(Dir-Steve ...      0\n",
       "2  This movie was so poorly written and directed ...      0\n",
       "3  The most interesting thing about Miryang (Secr...      1\n",
       "4  when i first read about \"berlin am meer\" i did...      0"
      ]
     },
     "execution_count": 2,
     "metadata": {},
     "output_type": "execute_result"
    }
   ],
   "source": [
    "df.head(5)"
   ]
  },
  {
   "cell_type": "code",
   "execution_count": 3,
   "id": "5c017f61",
   "metadata": {},
   "outputs": [
    {
     "data": {
      "text/plain": [
       "(5000, 2)"
      ]
     },
     "execution_count": 3,
     "metadata": {},
     "output_type": "execute_result"
    }
   ],
   "source": [
    "df.shape"
   ]
  },
  {
   "cell_type": "markdown",
   "id": "f8c88964",
   "metadata": {},
   "source": [
    "# 2. Data Cleaning"
   ]
  },
  {
   "cell_type": "code",
   "execution_count": 4,
   "id": "311f7181",
   "metadata": {},
   "outputs": [
    {
     "data": {
      "text/plain": [
       "text     0\n",
       "label    0\n",
       "dtype: int64"
      ]
     },
     "execution_count": 4,
     "metadata": {},
     "output_type": "execute_result"
    }
   ],
   "source": [
    "# missing values\n",
    "df.isnull().sum()"
   ]
  },
  {
   "cell_type": "code",
   "execution_count": 5,
   "id": "4a2194a4",
   "metadata": {},
   "outputs": [
    {
     "data": {
      "text/html": [
       "<div>\n",
       "<style scoped>\n",
       "    .dataframe tbody tr th:only-of-type {\n",
       "        vertical-align: middle;\n",
       "    }\n",
       "\n",
       "    .dataframe tbody tr th {\n",
       "        vertical-align: top;\n",
       "    }\n",
       "\n",
       "    .dataframe thead th {\n",
       "        text-align: right;\n",
       "    }\n",
       "</style>\n",
       "<table border=\"1\" class=\"dataframe\">\n",
       "  <thead>\n",
       "    <tr style=\"text-align: right;\">\n",
       "      <th></th>\n",
       "      <th>text</th>\n",
       "      <th>label</th>\n",
       "      <th>sentiment</th>\n",
       "    </tr>\n",
       "  </thead>\n",
       "  <tbody>\n",
       "    <tr>\n",
       "      <th>0</th>\n",
       "      <td>I always wrote this series off as being a comp...</td>\n",
       "      <td>0</td>\n",
       "      <td>negative</td>\n",
       "    </tr>\n",
       "    <tr>\n",
       "      <th>1</th>\n",
       "      <td>1st watched 12/7/2002 - 3 out of 10(Dir-Steve ...</td>\n",
       "      <td>0</td>\n",
       "      <td>negative</td>\n",
       "    </tr>\n",
       "    <tr>\n",
       "      <th>2</th>\n",
       "      <td>This movie was so poorly written and directed ...</td>\n",
       "      <td>0</td>\n",
       "      <td>negative</td>\n",
       "    </tr>\n",
       "    <tr>\n",
       "      <th>3</th>\n",
       "      <td>The most interesting thing about Miryang (Secr...</td>\n",
       "      <td>1</td>\n",
       "      <td>positive</td>\n",
       "    </tr>\n",
       "    <tr>\n",
       "      <th>4</th>\n",
       "      <td>when i first read about \"berlin am meer\" i did...</td>\n",
       "      <td>0</td>\n",
       "      <td>negative</td>\n",
       "    </tr>\n",
       "  </tbody>\n",
       "</table>\n",
       "</div>"
      ],
      "text/plain": [
       "                                                text  label sentiment\n",
       "0  I always wrote this series off as being a comp...      0  negative\n",
       "1  1st watched 12/7/2002 - 3 out of 10(Dir-Steve ...      0  negative\n",
       "2  This movie was so poorly written and directed ...      0  negative\n",
       "3  The most interesting thing about Miryang (Secr...      1  positive\n",
       "4  when i first read about \"berlin am meer\" i did...      0  negative"
      ]
     },
     "execution_count": 5,
     "metadata": {},
     "output_type": "execute_result"
    }
   ],
   "source": [
    "#making another coloumn of positive and negative\n",
    "\n",
    "df['sentiment'] = df['label'].apply(lambda x:\"positive\" if x==1 else \"negative\")\n",
    "df.head(5)\n"
   ]
  },
  {
   "cell_type": "code",
   "execution_count": 6,
   "id": "dc9b7b38",
   "metadata": {},
   "outputs": [
    {
     "data": {
      "text/plain": [
       "5"
      ]
     },
     "execution_count": 6,
     "metadata": {},
     "output_type": "execute_result"
    }
   ],
   "source": [
    "df.duplicated().sum()"
   ]
  },
  {
   "cell_type": "code",
   "execution_count": 7,
   "id": "429ae87e",
   "metadata": {},
   "outputs": [
    {
     "data": {
      "text/plain": [
       "0"
      ]
     },
     "execution_count": 7,
     "metadata": {},
     "output_type": "execute_result"
    }
   ],
   "source": [
    "#dropping duplicates \n",
    "\n",
    "df =df.drop_duplicates()\n",
    "df.duplicated().sum()"
   ]
  },
  {
   "cell_type": "markdown",
   "id": "94149aee",
   "metadata": {},
   "source": [
    "# 3. Exploratory Data Analysis"
   ]
  },
  {
   "cell_type": "code",
   "execution_count": 8,
   "id": "a27183fb",
   "metadata": {},
   "outputs": [
    {
     "data": {
      "text/plain": [
       "Text(0, 0.5, 'counts')"
      ]
     },
     "execution_count": 8,
     "metadata": {},
     "output_type": "execute_result"
    },
    {
     "data": {
      "image/png": "[encoded data removed]",
      "text/plain": [
       "<Figure size 432x288 with 1 Axes>"
      ]
     },
     "metadata": {
      "needs_background": "light"
     },
     "output_type": "display_data"
    }
   ],
   "source": [
    "df['sentiment'].value_counts().plot(kind='bar',color='red')\n",
    "plt.title(\"Sentiment analysis\")\n",
    "plt.xlabel(\"sentiments\")\n",
    "plt.ylabel(\"counts\")"
   ]
  },
  {
   "cell_type": "code",
   "execution_count": 9,
   "id": "34677a3a",
   "metadata": {
    "scrolled": true
   },
   "outputs": [
    {
     "data": {
      "text/plain": [
       "<AxesSubplot:ylabel='sentiment'>"
      ]
     },
     "execution_count": 9,
     "metadata": {},
     "output_type": "execute_result"
    },
    {
     "data": {
      "image/png": "[encoded data removed]",
      "text/plain": [
       "<Figure size 432x288 with 1 Axes>"
      ]
     },
     "metadata": {},
     "output_type": "display_data"
    }
   ],
   "source": [
    "df['sentiment'].value_counts().plot(kind='pie',labels=['positive','negative'],autopct=\"%0.2f\")"
   ]
  },
  {
   "cell_type": "markdown",
   "id": "b4567b84",
   "metadata": {},
   "source": [
    "# 4. Data Preprocessing"
   ]
  },
  {
   "cell_type": "code",
   "execution_count": 10,
   "id": "a90c0b87",
   "metadata": {},
   "outputs": [
    {
     "name": "stdout",
     "output_type": "stream",
     "text": [
      "brasilian good fottball study\n"
     ]
    }
   ],
   "source": [
    "#spacy implimentation\n",
    "import spacy\n",
    "analyzer = spacy.load('en_core_web_sm')\n",
    "def preprocessor(text):\n",
    "    example = analyzer(text)\n",
    "    token_words = []\n",
    "    processed_words = []\n",
    "    for words  in example:\n",
    "        if not words.is_stop and not words.is_punct:\n",
    "            token_words.append(words)\n",
    "    for new in token_words:\n",
    "        processed_words.append(new.lemma_)\n",
    "    token_words.clear()    \n",
    "    return \" \".join(processed_words)   \n",
    "print(preprocessor(\"brasilian are good at fottball! and studying\"))"
   ]
  },
  {
   "cell_type": "code",
   "execution_count": 11,
   "id": "a475b619",
   "metadata": {},
   "outputs": [],
   "source": [
    "df['processed_text'] = df['text'].apply(preprocessor)"
   ]
  },
  {
   "cell_type": "code",
   "execution_count": 12,
   "id": "f14bf6e6",
   "metadata": {
    "scrolled": true
   },
   "outputs": [
    {
     "data": {
      "text/html": [
       "<div>\n",
       "<style scoped>\n",
       "    .dataframe tbody tr th:only-of-type {\n",
       "        vertical-align: middle;\n",
       "    }\n",
       "\n",
       "    .dataframe tbody tr th {\n",
       "        vertical-align: top;\n",
       "    }\n",
       "\n",
       "    .dataframe thead th {\n",
       "        text-align: right;\n",
       "    }\n",
       "</style>\n",
       "<table border=\"1\" class=\"dataframe\">\n",
       "  <thead>\n",
       "    <tr style=\"text-align: right;\">\n",
       "      <th></th>\n",
       "      <th>text</th>\n",
       "      <th>label</th>\n",
       "      <th>sentiment</th>\n",
       "      <th>processed_text</th>\n",
       "    </tr>\n",
       "  </thead>\n",
       "  <tbody>\n",
       "    <tr>\n",
       "      <th>0</th>\n",
       "      <td>I always wrote this series off as being a comp...</td>\n",
       "      <td>0</td>\n",
       "      <td>negative</td>\n",
       "      <td>write series complete stink f Jim Belushi invo...</td>\n",
       "    </tr>\n",
       "    <tr>\n",
       "      <th>1</th>\n",
       "      <td>1st watched 12/7/2002 - 3 out of 10(Dir-Steve ...</td>\n",
       "      <td>0</td>\n",
       "      <td>negative</td>\n",
       "      <td>1st watch 12/7/2002 3 10(Dir Steve Purcell Typ...</td>\n",
       "    </tr>\n",
       "    <tr>\n",
       "      <th>2</th>\n",
       "      <td>This movie was so poorly written and directed ...</td>\n",
       "      <td>0</td>\n",
       "      <td>negative</td>\n",
       "      <td>movie poorly write direct fall asleep 30 minut...</td>\n",
       "    </tr>\n",
       "    <tr>\n",
       "      <th>3</th>\n",
       "      <td>The most interesting thing about Miryang (Secr...</td>\n",
       "      <td>1</td>\n",
       "      <td>positive</td>\n",
       "      <td>interesting thing Miryang Secret Sunshine acto...</td>\n",
       "    </tr>\n",
       "    <tr>\n",
       "      <th>4</th>\n",
       "      <td>when i first read about \"berlin am meer\" i did...</td>\n",
       "      <td>0</td>\n",
       "      <td>negative</td>\n",
       "      <td>read berlin meer expect think right people rig...</td>\n",
       "    </tr>\n",
       "  </tbody>\n",
       "</table>\n",
       "</div>"
      ],
      "text/plain": [
       "                                                text  label sentiment  \\\n",
       "0  I always wrote this series off as being a comp...      0  negative   \n",
       "1  1st watched 12/7/2002 - 3 out of 10(Dir-Steve ...      0  negative   \n",
       "2  This movie was so poorly written and directed ...      0  negative   \n",
       "3  The most interesting thing about Miryang (Secr...      1  positive   \n",
       "4  when i first read about \"berlin am meer\" i did...      0  negative   \n",
       "\n",
       "                                      processed_text  \n",
       "0  write series complete stink f Jim Belushi invo...  \n",
       "1  1st watch 12/7/2002 3 10(Dir Steve Purcell Typ...  \n",
       "2  movie poorly write direct fall asleep 30 minut...  \n",
       "3  interesting thing Miryang Secret Sunshine acto...  \n",
       "4  read berlin meer expect think right people rig...  "
      ]
     },
     "execution_count": 12,
     "metadata": {},
     "output_type": "execute_result"
    }
   ],
   "source": [
    "df.head(5)"
   ]
  },
  {
   "cell_type": "code",
   "execution_count": 13,
   "id": "8e3cf1b8",
   "metadata": {
    "scrolled": true
   },
   "outputs": [
    {
     "data": {
      "text/plain": [
       "\"1st watched 12/7/2002 - 3 out of 10(Dir-Steve Purcell): Typical Mary Kate & Ashley fare with a few more kisses. It looks to me like the girls are getting pretty tired of this stuff and it will be interesting what happens to them if they ever decide to split up and go there own ways. In this episode of their adventures they are interns in Rome for a `fashion' designer who puts them right into the mailroom to learn what working hard is all about(I guess..). Besides the typical flirtations with boys there is nothing much else except the Rome scenario until about ¾ way into the movie when it's finally revealed why they are getting fired, then re-hired, then fired again, then re-hired again. This is definetly made by people who don't understand the corporate world and it shows in their interpretation of it. Maybe the real world will be their next adventure(if there is one.). Even my kids didn't seem to care for this boring `adventure' in the make-believe. Let's see they probably only have a couple of years till their legal adults. We'll see what happens then.\""
      ]
     },
     "execution_count": 13,
     "metadata": {},
     "output_type": "execute_result"
    }
   ],
   "source": [
    "df.text.iloc[1]"
   ]
  },
  {
   "cell_type": "code",
   "execution_count": 14,
   "id": "5d23ab98",
   "metadata": {
    "scrolled": false
   },
   "outputs": [
    {
     "data": {
      "text/plain": [
       "'1st watch 12/7/2002 3 10(Dir Steve Purcell Typical Mary Kate Ashley fare kiss look like girl get pretty tired stuff interesting happen decide split way episode adventure intern Rome ` fashion designer put right mailroom learn work hard about(i guess typical flirtation boy Rome scenario ¾ way movie finally reveal getting fire hire fire hire definetly people understand corporate world show interpretation maybe real world adventure(if kid care boring ` adventure believe let probably couple year till legal adult happen'"
      ]
     },
     "execution_count": 14,
     "metadata": {},
     "output_type": "execute_result"
    }
   ],
   "source": [
    "df.processed_text.iloc[1]"
   ]
  },
  {
   "cell_type": "markdown",
   "id": "516ef945",
   "metadata": {},
   "source": [
    "# 5. Vectorization"
   ]
  },
  {
   "cell_type": "code",
   "execution_count": 15,
   "id": "dc396f94",
   "metadata": {},
   "outputs": [],
   "source": [
    "from sklearn.feature_extraction.text import CountVectorizer,TfidfVectorizer\n",
    "tfidf = TfidfVectorizer()\n",
    "\n",
    "x = tfidf.fit_transform(df['processed_text']).toarray()\n"
   ]
  },
  {
   "cell_type": "markdown",
   "id": "7f95cf2f",
   "metadata": {},
   "source": [
    "# 6. Model Training"
   ]
  },
  {
   "cell_type": "code",
   "execution_count": 18,
   "id": "f06fde65",
   "metadata": {},
   "outputs": [
    {
     "data": {
      "text/plain": [
       "(3996, 33173)"
      ]
     },
     "execution_count": 18,
     "metadata": {},
     "output_type": "execute_result"
    }
   ],
   "source": [
    "from sklearn.model_selection import train_test_split\n",
    "x_train,x_test,y_train,y_test = train_test_split(x,df['label'],stratify=df['label'],test_size=0.2)\n",
    "\n",
    "x_train.shape"
   ]
  },
  {
   "cell_type": "code",
   "execution_count": 19,
   "id": "b46e865b",
   "metadata": {
    "scrolled": false
   },
   "outputs": [
    {
     "name": "stdout",
     "output_type": "stream",
     "text": [
      "              precision    recall  f1-score   support\n",
      "\n",
      "           0       0.82      0.91      0.86       499\n",
      "           1       0.90      0.81      0.85       500\n",
      "\n",
      "    accuracy                           0.86       999\n",
      "   macro avg       0.86      0.86      0.86       999\n",
      "weighted avg       0.86      0.86      0.86       999\n",
      "\n",
      "0.8955555555555555\n"
     ]
    }
   ],
   "source": [
    "from sklearn.naive_bayes import GaussianNB,MultinomialNB,BernoulliNB\n",
    "from sklearn.metrics import accuracy_score,confusion_matrix,precision_score\n",
    "from sklearn.neighbors import KNeighborsClassifier\n",
    "from sklearn.linear_model import LogisticRegression\n",
    "model = MultinomialNB().fit(x_train,y_train)\n",
    "model_prediction = model.predict(x_test)\n",
    "from sklearn.metrics import classification_report\n",
    "print(classification_report(y_test,model_prediction))\n",
    "print(precision_score(y_test,model_prediction))"
   ]
  },
  {
   "cell_type": "code",
   "execution_count": 23,
   "id": "c44e6aa1",
   "metadata": {},
   "outputs": [],
   "source": [
    "import pickle\n",
    "pickle.dump(tfidf,open('tifdfvectorizer.pkl','wb'))\n",
    "pickle.dump(model,open('naivemodel.pkl','wb'))"
   ]
  },
  {
   "cell_type": "code",
   "execution_count": 24,
   "id": "f76a8ba8",
   "metadata": {
    "scrolled": false
   },
   "outputs": [
    {
     "data": {
      "text/plain": [
       "'perfect movie'"
      ]
     },
     "execution_count": 24,
     "metadata": {},
     "output_type": "execute_result"
    }
   ],
   "source": [
    "input = preprocessor(\"perfect movie\")\n",
    "input"
   ]
  },
  {
   "cell_type": "code",
   "execution_count": 25,
   "id": "d943f9da",
   "metadata": {
    "scrolled": false
   },
   "outputs": [
    {
     "data": {
      "text/plain": [
       "array([1], dtype=int64)"
      ]
     },
     "execution_count": 25,
     "metadata": {},
     "output_type": "execute_result"
    }
   ],
   "source": [
    "transformed_input = tfidf.transform([input])\n",
    "model_prediction = model.predict(transformed_input)\n",
    "model_prediction"
   ]
  },
  {
   "cell_type": "markdown",
   "id": "8cc21382",
   "metadata": {},
   "source": [
    "# vectorization with spacy"
   ]
  },
  {
   "cell_type": "code",
   "execution_count": 20,
   "id": "c0dbf097",
   "metadata": {
    "scrolled": true
   },
   "outputs": [
    {
     "ename": "NameError",
     "evalue": "name 'text' is not defined",
     "output_type": "error",
     "traceback": [
      "\u001b[1;31m---------------------------------------------------------------------------\u001b[0m",
      "\u001b[1;31mNameError\u001b[0m                                 Traceback (most recent call last)",
      "Input \u001b[1;32mIn [20]\u001b[0m, in \u001b[0;36m<cell line: 2>\u001b[1;34m()\u001b[0m\n\u001b[0;32m      1\u001b[0m analyzer \u001b[38;5;241m=\u001b[39m spacy\u001b[38;5;241m.\u001b[39mload(\u001b[38;5;124m'\u001b[39m\u001b[38;5;124men_core_web_sm\u001b[39m\u001b[38;5;124m'\u001b[39m)\n\u001b[1;32m----> 2\u001b[0m example \u001b[38;5;241m=\u001b[39m analyzer(\u001b[43mtext\u001b[49m)\n\u001b[0;32m      3\u001b[0m df[\u001b[38;5;124m'\u001b[39m\u001b[38;5;124mspacy_vectors\u001b[39m\u001b[38;5;124m'\u001b[39m] \u001b[38;5;241m=\u001b[39m df[\u001b[38;5;124m'\u001b[39m\u001b[38;5;124mtext\u001b[39m\u001b[38;5;124m'\u001b[39m]\u001b[38;5;241m.\u001b[39mapply(\u001b[38;5;28;01mlambda\u001b[39;00m x : analyzer(x)\u001b[38;5;241m.\u001b[39mvector)\n",
      "\u001b[1;31mNameError\u001b[0m: name 'text' is not defined"
     ]
    }
   ],
   "source": [
    "analyzer = spacy.load('en_core_web_sm')\n",
    "example = analyzer(text)\n",
    "df['spacy_vectors'] = df['text'].apply(lambda x : analyzer(x).vector)"
   ]
  },
  {
   "cell_type": "code",
   "execution_count": null,
   "id": "3e953639",
   "metadata": {},
   "outputs": [],
   "source": [
    "df.head(5)"
   ]
  },
  {
   "cell_type": "code",
   "execution_count": null,
   "id": "da2a40d3",
   "metadata": {},
   "outputs": [],
   "source": [
    "from sklearn.model_selection import train_test_split\n",
    "X_train,X_test,Y_train,Y_test = train_test_split(df['spacy_vectors'].values,df['label'],stratify=df['label'],test_size=0.2)\n",
    "\n",
    "X_train2d = np.stack(X_train)\n",
    "X_test2d = np.stack(X_test)"
   ]
  },
  {
   "cell_type": "code",
   "execution_count": null,
   "id": "bdfcd88c",
   "metadata": {},
   "outputs": [],
   "source": [
    "from sklearn.preprocessing import MinMaxScaler\n",
    "scaler = MinMaxScaler()\n",
    "scaled_tranied_embed  = scaler.fit_transform(X_train2d)\n",
    "scaled_test_embed  = scaler.transform(X_test2d)"
   ]
  },
  {
   "cell_type": "code",
   "execution_count": null,
   "id": "463effdb",
   "metadata": {},
   "outputs": [],
   "source": [
    "model = KNeighborsClassifier().fit(scaled_tranied_embed,Y_train)\n",
    "model_prediction = model.predict(scaled_test_embed)\n",
    "print(accuracy_score(Y_test,model_prediction))\n",
    "print(confusion_matrix(Y_test,model_prediction))\n",
    "print(precision_score(Y_test,model_prediction))\n"
   ]
  },
  {
   "cell_type": "code",
   "execution_count": null,
   "id": "53e6eb63",
   "metadata": {
    "scrolled": true
   },
   "outputs": [],
   "source": [
    "from sklearn.metrics import classification_report\n",
    "print(classification_report(Y_test,model_prediction))"
   ]
  },
  {
   "cell_type": "markdown",
   "id": "ffa56d38",
   "metadata": {},
   "source": [
    "# Evaluating Model on Different Algorithms"
   ]
  },
  {
   "cell_type": "code",
   "execution_count": null,
   "id": "bb841a5c",
   "metadata": {},
   "outputs": [],
   "source": [
    "from sklearn.linear_model import LogisticRegression\n",
    "from sklearn.svm import SVC\n",
    "from sklearn.naive_bayes import MultinomialNB\n",
    "from sklearn.tree import DecisionTreeClassifier\n",
    "from sklearn.neighbors import KNeighborsClassifier\n",
    "from sklearn.ensemble import RandomForestClassifier\n",
    "from sklearn.ensemble import AdaBoostClassifier\n",
    "from sklearn.ensemble import BaggingClassifier\n",
    "from sklearn.ensemble import ExtraTreesClassifier\n",
    "from sklearn.ensemble import GradientBoostingClassifier\n",
    "from xgboost import XGBClassifier"
   ]
  },
  {
   "cell_type": "code",
   "execution_count": null,
   "id": "ba4a498e",
   "metadata": {},
   "outputs": [],
   "source": [
    "def algorithms(cv,x_train,y_train,x_test,y_test):\n",
    "    model = cv().fit(x_train,y_train)\n",
    "    model_prediction = model.predict(x_test)\n",
    "    model_report = classification_report(y_test,model_prediction)\n",
    "    return model_report\n",
    "    "
   ]
  },
  {
   "cell_type": "code",
   "execution_count": 27,
   "id": "f89551c3",
   "metadata": {},
   "outputs": [
    {
     "name": "stdout",
     "output_type": "stream",
     "text": [
      "              precision    recall  f1-score   support\n",
      "\n",
      "           0       0.87      0.81      0.84       748\n",
      "           1       0.82      0.88      0.85       751\n",
      "\n",
      "    accuracy                           0.84      1499\n",
      "   macro avg       0.85      0.84      0.84      1499\n",
      "weighted avg       0.85      0.84      0.84      1499\n",
      "\n"
     ]
    }
   ],
   "source": [
    "# LOGISTIC REGRESSION\n",
    "\n",
    "logistic_reg = algorithms(LogisticRegression,x_train,y_train,x_test,y_test)\n",
    "print(logistic_reg)"
   ]
  },
  {
   "cell_type": "code",
   "execution_count": 36,
   "id": "9a4871d9",
   "metadata": {},
   "outputs": [
    {
     "name": "stdout",
     "output_type": "stream",
     "text": [
      "              precision    recall  f1-score   support\n",
      "\n",
      "           0       0.88      0.81      0.84       748\n",
      "           1       0.83      0.89      0.86       751\n",
      "\n",
      "    accuracy                           0.85      1499\n",
      "   macro avg       0.85      0.85      0.85      1499\n",
      "weighted avg       0.85      0.85      0.85      1499\n",
      "\n"
     ]
    }
   ],
   "source": [
    "# suppport vector machine\n",
    "\n",
    "support_vector_machine = algorithms(SVC,x_train,y_train,x_test,y_test)\n",
    "print(support_vector_machine)"
   ]
  },
  {
   "cell_type": "code",
   "execution_count": 29,
   "id": "d6f20bef",
   "metadata": {},
   "outputs": [
    {
     "name": "stdout",
     "output_type": "stream",
     "text": [
      "              precision    recall  f1-score   support\n",
      "\n",
      "           0       0.71      0.71      0.71       748\n",
      "           1       0.71      0.71      0.71       751\n",
      "\n",
      "    accuracy                           0.71      1499\n",
      "   macro avg       0.71      0.71      0.71      1499\n",
      "weighted avg       0.71      0.71      0.71      1499\n",
      "\n"
     ]
    }
   ],
   "source": [
    "# DecisionTreeClassifier\n",
    "\n",
    "Decision_tree = algorithms(DecisionTreeClassifier,x_train,y_train,x_test,y_test)\n",
    "print(Decision_tree)"
   ]
  },
  {
   "cell_type": "code",
   "execution_count": 30,
   "id": "88a85327",
   "metadata": {},
   "outputs": [
    {
     "name": "stdout",
     "output_type": "stream",
     "text": [
      "              precision    recall  f1-score   support\n",
      "\n",
      "           0       0.68      0.71      0.69       748\n",
      "           1       0.70      0.66      0.68       751\n",
      "\n",
      "    accuracy                           0.69      1499\n",
      "   macro avg       0.69      0.69      0.69      1499\n",
      "weighted avg       0.69      0.69      0.69      1499\n",
      "\n"
     ]
    },
    {
     "name": "stderr",
     "output_type": "stream",
     "text": [
      "C:\\Users\\Dell\\AppData\\Local\\Programs\\Python\\Python310\\lib\\site-packages\\sklearn\\neighbors\\_classification.py:228: FutureWarning: Unlike other reduction functions (e.g. `skew`, `kurtosis`), the default behavior of `mode` typically preserves the axis it acts along. In SciPy 1.11.0, this behavior will change: the default value of `keepdims` will become False, the `axis` over which the statistic is taken will be eliminated, and the value None will no longer be accepted. Set `keepdims` to True or False to avoid this warning.\n",
      "  mode, _ = stats.mode(_y[neigh_ind, k], axis=1)\n"
     ]
    }
   ],
   "source": [
    "# KNeighborsClassifier\n",
    "\n",
    "K_neighbour = algorithms(KNeighborsClassifier,x_train,y_train,x_test,y_test)\n",
    "print(K_neighbour)"
   ]
  },
  {
   "cell_type": "code",
   "execution_count": 31,
   "id": "bb13a140",
   "metadata": {},
   "outputs": [
    {
     "name": "stdout",
     "output_type": "stream",
     "text": [
      "              precision    recall  f1-score   support\n",
      "\n",
      "           0       0.85      0.84      0.85       748\n",
      "           1       0.84      0.85      0.85       751\n",
      "\n",
      "    accuracy                           0.85      1499\n",
      "   macro avg       0.85      0.85      0.85      1499\n",
      "weighted avg       0.85      0.85      0.85      1499\n",
      "\n"
     ]
    }
   ],
   "source": [
    "# RandomForestClassifier\n",
    "\n",
    "random_forest = algorithms(RandomForestClassifier,x_train,y_train,x_test,y_test)\n",
    "print(random_forest)"
   ]
  },
  {
   "cell_type": "code",
   "execution_count": 32,
   "id": "495711ff",
   "metadata": {},
   "outputs": [
    {
     "name": "stdout",
     "output_type": "stream",
     "text": [
      "              precision    recall  f1-score   support\n",
      "\n",
      "           0       0.80      0.76      0.78       748\n",
      "           1       0.77      0.81      0.79       751\n",
      "\n",
      "    accuracy                           0.78      1499\n",
      "   macro avg       0.78      0.78      0.78      1499\n",
      "weighted avg       0.78      0.78      0.78      1499\n",
      "\n"
     ]
    }
   ],
   "source": [
    "# AdaBoostClassifier\n",
    "\n",
    "ada_boost = algorithms(AdaBoostClassifier,x_train,y_train,x_test,y_test)\n",
    "print(ada_boost)"
   ]
  },
  {
   "cell_type": "code",
   "execution_count": 33,
   "id": "1449e20a",
   "metadata": {},
   "outputs": [
    {
     "name": "stdout",
     "output_type": "stream",
     "text": [
      "              precision    recall  f1-score   support\n",
      "\n",
      "           0       0.75      0.78      0.77       748\n",
      "           1       0.77      0.74      0.76       751\n",
      "\n",
      "    accuracy                           0.76      1499\n",
      "   macro avg       0.76      0.76      0.76      1499\n",
      "weighted avg       0.76      0.76      0.76      1499\n",
      "\n"
     ]
    }
   ],
   "source": [
    "# BaggingClassifier\n",
    "\n",
    "bagging = algorithms(BaggingClassifier,x_train,y_train,x_test,y_test)\n",
    "print(bagging)"
   ]
  },
  {
   "cell_type": "code",
   "execution_count": 34,
   "id": "6c1eaef2",
   "metadata": {},
   "outputs": [
    {
     "name": "stdout",
     "output_type": "stream",
     "text": [
      "              precision    recall  f1-score   support\n",
      "\n",
      "           0       0.85      0.72      0.78       748\n",
      "           1       0.76      0.87      0.81       751\n",
      "\n",
      "    accuracy                           0.80      1499\n",
      "   macro avg       0.81      0.80      0.80      1499\n",
      "weighted avg       0.81      0.80      0.80      1499\n",
      "\n"
     ]
    }
   ],
   "source": [
    "# GradientBoostingClassifier\n",
    "\n",
    "gradient_boost = algorithms(GradientBoostingClassifier,x_train,y_train,x_test,y_test)\n",
    "print(gradient_boost)"
   ]
  },
  {
   "cell_type": "code",
   "execution_count": 35,
   "id": "0eeb0834",
   "metadata": {},
   "outputs": [
    {
     "name": "stdout",
     "output_type": "stream",
     "text": [
      "              precision    recall  f1-score   support\n",
      "\n",
      "           0       0.84      0.79      0.82       748\n",
      "           1       0.80      0.85      0.83       751\n",
      "\n",
      "    accuracy                           0.82      1499\n",
      "   macro avg       0.82      0.82      0.82      1499\n",
      "weighted avg       0.82      0.82      0.82      1499\n",
      "\n"
     ]
    }
   ],
   "source": [
    "# XGBClassifier\n",
    "\n",
    "xgb = algorithms(XGBClassifier,x_train,y_train,x_test,y_test)\n",
    "print(xgb)"
   ]
  },
  {
   "cell_type": "code",
   "execution_count": null,
   "id": "1e1ff02f",
   "metadata": {},
   "outputs": [],
   "source": []
  }
 ],
 "metadata": {
  "kernelspec": {
   "display_name": "Python 3 (ipykernel)",
   "language": "python",
   "name": "python3"
  },
  "language_info": {
   "codemirror_mode": {
    "name": "ipython",
    "version": 3
   },
   "file_extension": ".py",
   "mimetype": "text/x-python",
   "name": "python",
   "nbconvert_exporter": "python",
   "pygments_lexer": "ipython3",
   "version": "3.10.3"
  }
 },
 "nbformat": 4,
 "nbformat_minor": 5
}
